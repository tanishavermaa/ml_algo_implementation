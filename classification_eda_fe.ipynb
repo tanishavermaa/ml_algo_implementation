{
 "cells": [
  {
   "cell_type": "code",
   "execution_count": 88,
   "metadata": {},
   "outputs": [],
   "source": [
    "import pandas as pd\n",
    "import numpy as np\n",
    "import seaborn as sns\n",
    "import matplotlib.pyplot as plt\n",
    "import matplotlib_inline"
   ]
  },
  {
   "cell_type": "code",
   "execution_count": 89,
   "metadata": {},
   "outputs": [],
   "source": [
    "df=pd.read_csv(\"classification_raw_data.csv\")\n"
   ]
  },
  {
   "cell_type": "code",
   "execution_count": 90,
   "metadata": {},
   "outputs": [
    {
     "data": {
      "text/html": [
       "<div>\n",
       "<style scoped>\n",
       "    .dataframe tbody tr th:only-of-type {\n",
       "        vertical-align: middle;\n",
       "    }\n",
       "\n",
       "    .dataframe tbody tr th {\n",
       "        vertical-align: top;\n",
       "    }\n",
       "\n",
       "    .dataframe thead th {\n",
       "        text-align: right;\n",
       "    }\n",
       "</style>\n",
       "<table border=\"1\" class=\"dataframe\">\n",
       "  <thead>\n",
       "    <tr style=\"text-align: right;\">\n",
       "      <th></th>\n",
       "      <th>_id</th>\n",
       "      <th>message</th>\n",
       "      <th>class</th>\n",
       "    </tr>\n",
       "  </thead>\n",
       "  <tbody>\n",
       "    <tr>\n",
       "      <th>0</th>\n",
       "      <td>636a5fb8b99360b1e8c61d99</td>\n",
       "      <td>On Mon, Aug 19, 2002 at 03:08:16PM +0100, John...</td>\n",
       "      <td>ham</td>\n",
       "    </tr>\n",
       "    <tr>\n",
       "      <th>1</th>\n",
       "      <td>636a5fb8b99360b1e8c61d9b</td>\n",
       "      <td>SpamAssassin is hurting democracy!\\n\\nOwen\\n\\n...</td>\n",
       "      <td>ham</td>\n",
       "    </tr>\n",
       "    <tr>\n",
       "      <th>2</th>\n",
       "      <td>636a5fb8b99360b1e8c61db7</td>\n",
       "      <td>&lt; &gt;\\n\\n&gt; I downloaded a driver from the nVidia...</td>\n",
       "      <td>ham</td>\n",
       "    </tr>\n",
       "    <tr>\n",
       "      <th>3</th>\n",
       "      <td>636a5fb8b99360b1e8c61dc6</td>\n",
       "      <td>I am wondering whether there's a way that I ca...</td>\n",
       "      <td>ham</td>\n",
       "    </tr>\n",
       "    <tr>\n",
       "      <th>4</th>\n",
       "      <td>636a5fb8b99360b1e8c61de1</td>\n",
       "      <td>On Mon, 2 Sep 2002, Russell Turpin wrote:\\n\\n\\...</td>\n",
       "      <td>ham</td>\n",
       "    </tr>\n",
       "  </tbody>\n",
       "</table>\n",
       "</div>"
      ],
      "text/plain": [
       "                        _id  \\\n",
       "0  636a5fb8b99360b1e8c61d99   \n",
       "1  636a5fb8b99360b1e8c61d9b   \n",
       "2  636a5fb8b99360b1e8c61db7   \n",
       "3  636a5fb8b99360b1e8c61dc6   \n",
       "4  636a5fb8b99360b1e8c61de1   \n",
       "\n",
       "                                             message class  \n",
       "0  On Mon, Aug 19, 2002 at 03:08:16PM +0100, John...   ham  \n",
       "1  SpamAssassin is hurting democracy!\\n\\nOwen\\n\\n...   ham  \n",
       "2  < >\\n\\n> I downloaded a driver from the nVidia...   ham  \n",
       "3  I am wondering whether there's a way that I ca...   ham  \n",
       "4  On Mon, 2 Sep 2002, Russell Turpin wrote:\\n\\n\\...   ham  "
      ]
     },
     "execution_count": 90,
     "metadata": {},
     "output_type": "execute_result"
    }
   ],
   "source": [
    "df.head()"
   ]
  },
  {
   "cell_type": "code",
   "execution_count": 91,
   "metadata": {},
   "outputs": [],
   "source": [
    "df=df.drop(['_id'],axis=1)"
   ]
  },
  {
   "cell_type": "code",
   "execution_count": 92,
   "metadata": {},
   "outputs": [
    {
     "data": {
      "text/plain": [
       "0"
      ]
     },
     "execution_count": 92,
     "metadata": {},
     "output_type": "execute_result"
    }
   ],
   "source": [
    "df.duplicated().sum()"
   ]
  },
  {
   "cell_type": "code",
   "execution_count": 93,
   "metadata": {},
   "outputs": [
    {
     "data": {
      "text/plain": [
       "message    0\n",
       "class      0\n",
       "dtype: int64"
      ]
     },
     "execution_count": 93,
     "metadata": {},
     "output_type": "execute_result"
    }
   ],
   "source": [
    "df.isnull().sum()"
   ]
  },
  {
   "cell_type": "code",
   "execution_count": 94,
   "metadata": {},
   "outputs": [],
   "source": [
    "df['class']=pd.factorize(df['class'])[0]\n"
   ]
  },
  {
   "cell_type": "code",
   "execution_count": 95,
   "metadata": {},
   "outputs": [
    {
     "data": {
      "text/html": [
       "<div>\n",
       "<style scoped>\n",
       "    .dataframe tbody tr th:only-of-type {\n",
       "        vertical-align: middle;\n",
       "    }\n",
       "\n",
       "    .dataframe tbody tr th {\n",
       "        vertical-align: top;\n",
       "    }\n",
       "\n",
       "    .dataframe thead th {\n",
       "        text-align: right;\n",
       "    }\n",
       "</style>\n",
       "<table border=\"1\" class=\"dataframe\">\n",
       "  <thead>\n",
       "    <tr style=\"text-align: right;\">\n",
       "      <th></th>\n",
       "      <th>message</th>\n",
       "      <th>class</th>\n",
       "    </tr>\n",
       "  </thead>\n",
       "  <tbody>\n",
       "    <tr>\n",
       "      <th>0</th>\n",
       "      <td>On Mon, Aug 19, 2002 at 03:08:16PM +0100, John...</td>\n",
       "      <td>0</td>\n",
       "    </tr>\n",
       "    <tr>\n",
       "      <th>1</th>\n",
       "      <td>SpamAssassin is hurting democracy!\\n\\nOwen\\n\\n...</td>\n",
       "      <td>0</td>\n",
       "    </tr>\n",
       "    <tr>\n",
       "      <th>2</th>\n",
       "      <td>&lt; &gt;\\n\\n&gt; I downloaded a driver from the nVidia...</td>\n",
       "      <td>0</td>\n",
       "    </tr>\n",
       "    <tr>\n",
       "      <th>3</th>\n",
       "      <td>I am wondering whether there's a way that I ca...</td>\n",
       "      <td>0</td>\n",
       "    </tr>\n",
       "    <tr>\n",
       "      <th>4</th>\n",
       "      <td>On Mon, 2 Sep 2002, Russell Turpin wrote:\\n\\n\\...</td>\n",
       "      <td>0</td>\n",
       "    </tr>\n",
       "    <tr>\n",
       "      <th>...</th>\n",
       "      <td>...</td>\n",
       "      <td>...</td>\n",
       "    </tr>\n",
       "    <tr>\n",
       "      <th>3585</th>\n",
       "      <td>You are awarded a SiPix Digital Camera! call 0...</td>\n",
       "      <td>1</td>\n",
       "    </tr>\n",
       "    <tr>\n",
       "      <th>3586</th>\n",
       "      <td>I want to tell you how bad I feel that basical...</td>\n",
       "      <td>0</td>\n",
       "    </tr>\n",
       "    <tr>\n",
       "      <th>3587</th>\n",
       "      <td>Its just the effect of irritation. Just ignore it</td>\n",
       "      <td>0</td>\n",
       "    </tr>\n",
       "    <tr>\n",
       "      <th>3588</th>\n",
       "      <td>Hi its in durban are you still on this number</td>\n",
       "      <td>0</td>\n",
       "    </tr>\n",
       "    <tr>\n",
       "      <th>3589</th>\n",
       "      <td>Yes i have. So that's why u texted. Pshew...mi...</td>\n",
       "      <td>0</td>\n",
       "    </tr>\n",
       "  </tbody>\n",
       "</table>\n",
       "<p>3590 rows × 2 columns</p>\n",
       "</div>"
      ],
      "text/plain": [
       "                                                message  class\n",
       "0     On Mon, Aug 19, 2002 at 03:08:16PM +0100, John...      0\n",
       "1     SpamAssassin is hurting democracy!\\n\\nOwen\\n\\n...      0\n",
       "2     < >\\n\\n> I downloaded a driver from the nVidia...      0\n",
       "3     I am wondering whether there's a way that I ca...      0\n",
       "4     On Mon, 2 Sep 2002, Russell Turpin wrote:\\n\\n\\...      0\n",
       "...                                                 ...    ...\n",
       "3585  You are awarded a SiPix Digital Camera! call 0...      1\n",
       "3586  I want to tell you how bad I feel that basical...      0\n",
       "3587  Its just the effect of irritation. Just ignore it      0\n",
       "3588      Hi its in durban are you still on this number      0\n",
       "3589  Yes i have. So that's why u texted. Pshew...mi...      0\n",
       "\n",
       "[3590 rows x 2 columns]"
      ]
     },
     "execution_count": 95,
     "metadata": {},
     "output_type": "execute_result"
    }
   ],
   "source": [
    "df"
   ]
  },
  {
   "cell_type": "code",
   "execution_count": 96,
   "metadata": {},
   "outputs": [
    {
     "data": {
      "text/plain": [
       "'!\"#$%&\\'()*+,-./:;<=>?@[\\\\]^_`{|}~'"
      ]
     },
     "execution_count": 96,
     "metadata": {},
     "output_type": "execute_result"
    }
   ],
   "source": [
    "import string\n",
    "string.punctuation"
   ]
  },
  {
   "cell_type": "code",
   "execution_count": 97,
   "metadata": {},
   "outputs": [
    {
     "data": {
      "text/html": [
       "<div>\n",
       "<style scoped>\n",
       "    .dataframe tbody tr th:only-of-type {\n",
       "        vertical-align: middle;\n",
       "    }\n",
       "\n",
       "    .dataframe tbody tr th {\n",
       "        vertical-align: top;\n",
       "    }\n",
       "\n",
       "    .dataframe thead th {\n",
       "        text-align: right;\n",
       "    }\n",
       "</style>\n",
       "<table border=\"1\" class=\"dataframe\">\n",
       "  <thead>\n",
       "    <tr style=\"text-align: right;\">\n",
       "      <th></th>\n",
       "      <th>message</th>\n",
       "      <th>class</th>\n",
       "      <th>message_wo_punctuation</th>\n",
       "    </tr>\n",
       "  </thead>\n",
       "  <tbody>\n",
       "    <tr>\n",
       "      <th>0</th>\n",
       "      <td>On Mon, Aug 19, 2002 at 03:08:16PM +0100, John...</td>\n",
       "      <td>0</td>\n",
       "      <td>On Mon Aug 19 2002 at 030816PM 0100 John P Loo...</td>\n",
       "    </tr>\n",
       "    <tr>\n",
       "      <th>1</th>\n",
       "      <td>SpamAssassin is hurting democracy!\\n\\nOwen\\n\\n...</td>\n",
       "      <td>0</td>\n",
       "      <td>SpamAssassin is hurting democracynnOwennnnnnnh...</td>\n",
       "    </tr>\n",
       "    <tr>\n",
       "      <th>2</th>\n",
       "      <td>&lt; &gt;\\n\\n&gt; I downloaded a driver from the nVidia...</td>\n",
       "      <td>0</td>\n",
       "      <td>nn I downloaded a driver from the nVidia webs...</td>\n",
       "    </tr>\n",
       "    <tr>\n",
       "      <th>3</th>\n",
       "      <td>I am wondering whether there's a way that I ca...</td>\n",
       "      <td>0</td>\n",
       "      <td>I am wondering whether theres a way that I can...</td>\n",
       "    </tr>\n",
       "    <tr>\n",
       "      <th>4</th>\n",
       "      <td>On Mon, 2 Sep 2002, Russell Turpin wrote:\\n\\n\\...</td>\n",
       "      <td>0</td>\n",
       "      <td>On Mon 2 Sep 2002 Russell Turpin wrotennnn Ada...</td>\n",
       "    </tr>\n",
       "  </tbody>\n",
       "</table>\n",
       "</div>"
      ],
      "text/plain": [
       "                                             message  class  \\\n",
       "0  On Mon, Aug 19, 2002 at 03:08:16PM +0100, John...      0   \n",
       "1  SpamAssassin is hurting democracy!\\n\\nOwen\\n\\n...      0   \n",
       "2  < >\\n\\n> I downloaded a driver from the nVidia...      0   \n",
       "3  I am wondering whether there's a way that I ca...      0   \n",
       "4  On Mon, 2 Sep 2002, Russell Turpin wrote:\\n\\n\\...      0   \n",
       "\n",
       "                              message_wo_punctuation  \n",
       "0  On Mon Aug 19 2002 at 030816PM 0100 John P Loo...  \n",
       "1  SpamAssassin is hurting democracynnOwennnnnnnh...  \n",
       "2   nn I downloaded a driver from the nVidia webs...  \n",
       "3  I am wondering whether theres a way that I can...  \n",
       "4  On Mon 2 Sep 2002 Russell Turpin wrotennnn Ada...  "
      ]
     },
     "execution_count": 97,
     "metadata": {},
     "output_type": "execute_result"
    }
   ],
   "source": [
    "def remove_punctuation(text):\n",
    "    no_punctuation=[words for words in text if words not in string.punctuation]\n",
    "    words_wo_punctuation=''.join(no_punctuation)\n",
    "    return words_wo_punctuation\n",
    "df['message_wo_punctuation']=df['message'].apply(lambda x: remove_punctuation(x))\n",
    "df.head()"
   ]
  },
  {
   "cell_type": "code",
   "execution_count": 98,
   "metadata": {},
   "outputs": [
    {
     "data": {
      "text/html": [
       "<div>\n",
       "<style scoped>\n",
       "    .dataframe tbody tr th:only-of-type {\n",
       "        vertical-align: middle;\n",
       "    }\n",
       "\n",
       "    .dataframe tbody tr th {\n",
       "        vertical-align: top;\n",
       "    }\n",
       "\n",
       "    .dataframe thead th {\n",
       "        text-align: right;\n",
       "    }\n",
       "</style>\n",
       "<table border=\"1\" class=\"dataframe\">\n",
       "  <thead>\n",
       "    <tr style=\"text-align: right;\">\n",
       "      <th></th>\n",
       "      <th>message</th>\n",
       "      <th>class</th>\n",
       "      <th>message_wo_punctuation</th>\n",
       "      <th>message_lowertext</th>\n",
       "    </tr>\n",
       "  </thead>\n",
       "  <tbody>\n",
       "    <tr>\n",
       "      <th>0</th>\n",
       "      <td>On Mon, Aug 19, 2002 at 03:08:16PM +0100, John...</td>\n",
       "      <td>0</td>\n",
       "      <td>On Mon Aug 19 2002 at 030816PM 0100 John P Loo...</td>\n",
       "      <td>on mon aug 19 2002 at 030816pm 0100 john p loo...</td>\n",
       "    </tr>\n",
       "    <tr>\n",
       "      <th>1</th>\n",
       "      <td>SpamAssassin is hurting democracy!\\n\\nOwen\\n\\n...</td>\n",
       "      <td>0</td>\n",
       "      <td>SpamAssassin is hurting democracynnOwennnnnnnh...</td>\n",
       "      <td>spamassassin is hurting democracynnowennnnnnnh...</td>\n",
       "    </tr>\n",
       "    <tr>\n",
       "      <th>2</th>\n",
       "      <td>&lt; &gt;\\n\\n&gt; I downloaded a driver from the nVidia...</td>\n",
       "      <td>0</td>\n",
       "      <td>nn I downloaded a driver from the nVidia webs...</td>\n",
       "      <td>nn i downloaded a driver from the nvidia webs...</td>\n",
       "    </tr>\n",
       "    <tr>\n",
       "      <th>3</th>\n",
       "      <td>I am wondering whether there's a way that I ca...</td>\n",
       "      <td>0</td>\n",
       "      <td>I am wondering whether theres a way that I can...</td>\n",
       "      <td>i am wondering whether theres a way that i can...</td>\n",
       "    </tr>\n",
       "    <tr>\n",
       "      <th>4</th>\n",
       "      <td>On Mon, 2 Sep 2002, Russell Turpin wrote:\\n\\n\\...</td>\n",
       "      <td>0</td>\n",
       "      <td>On Mon 2 Sep 2002 Russell Turpin wrotennnn Ada...</td>\n",
       "      <td>on mon 2 sep 2002 russell turpin wrotennnn ada...</td>\n",
       "    </tr>\n",
       "  </tbody>\n",
       "</table>\n",
       "</div>"
      ],
      "text/plain": [
       "                                             message  class  \\\n",
       "0  On Mon, Aug 19, 2002 at 03:08:16PM +0100, John...      0   \n",
       "1  SpamAssassin is hurting democracy!\\n\\nOwen\\n\\n...      0   \n",
       "2  < >\\n\\n> I downloaded a driver from the nVidia...      0   \n",
       "3  I am wondering whether there's a way that I ca...      0   \n",
       "4  On Mon, 2 Sep 2002, Russell Turpin wrote:\\n\\n\\...      0   \n",
       "\n",
       "                              message_wo_punctuation  \\\n",
       "0  On Mon Aug 19 2002 at 030816PM 0100 John P Loo...   \n",
       "1  SpamAssassin is hurting democracynnOwennnnnnnh...   \n",
       "2   nn I downloaded a driver from the nVidia webs...   \n",
       "3  I am wondering whether theres a way that I can...   \n",
       "4  On Mon 2 Sep 2002 Russell Turpin wrotennnn Ada...   \n",
       "\n",
       "                                   message_lowertext  \n",
       "0  on mon aug 19 2002 at 030816pm 0100 john p loo...  \n",
       "1  spamassassin is hurting democracynnowennnnnnnh...  \n",
       "2   nn i downloaded a driver from the nvidia webs...  \n",
       "3  i am wondering whether theres a way that i can...  \n",
       "4  on mon 2 sep 2002 russell turpin wrotennnn ada...  "
      ]
     },
     "execution_count": 98,
     "metadata": {},
     "output_type": "execute_result"
    }
   ],
   "source": [
    "def to_lower(text):\n",
    "    result = text.lower()\n",
    "    return result\n",
    "df['message_lowertext']=df['message_wo_punctuation'].apply(lambda x:to_lower(x))\n",
    "df.head()"
   ]
  },
  {
   "cell_type": "code",
   "execution_count": 99,
   "metadata": {},
   "outputs": [
    {
     "name": "stderr",
     "output_type": "stream",
     "text": [
      "[nltk_data] Downloading package stopwords to\n",
      "[nltk_data]     C:\\Users\\TANISHA\\AppData\\Roaming\\nltk_data...\n",
      "[nltk_data]   Package stopwords is already up-to-date!\n"
     ]
    },
    {
     "data": {
      "text/plain": [
       "True"
      ]
     },
     "execution_count": 99,
     "metadata": {},
     "output_type": "execute_result"
    }
   ],
   "source": [
    "import nltk\n",
    "nltk.download('stopwords')"
   ]
  },
  {
   "cell_type": "code",
   "execution_count": 100,
   "metadata": {},
   "outputs": [],
   "source": [
    "import nltk\n",
    "from nltk.corpus import stopwords\n",
    "\n",
    "# Initialize the NLTK stopwords set\n",
    "nltk_stopwords = set(stopwords.words(\"english\"))\n",
    "\n",
    "def remove_stopwords(text):\n",
    "    \"\"\"\n",
    "    Removes stop words from a given text.\n",
    "    \n",
    "    Args:\n",
    "        text (str): Input text\n",
    "        \n",
    "    Returns:\n",
    "        str: Text with stop words removed\n",
    "    \"\"\"\n",
    "    # Tokenize the text\n",
    "    words = text.split()\n",
    "    \n",
    "    # Remove stop words\n",
    "    filtered_words = [word for word in words if word.lower() not in nltk_stopwords]\n",
    "    \n",
    "    # Reconstruct the text without stop words\n",
    "    cleaned_text = \" \".join(filtered_words)\n",
    "    \n",
    "    return cleaned_text\n"
   ]
  },
  {
   "cell_type": "code",
   "execution_count": 101,
   "metadata": {},
   "outputs": [
    {
     "data": {
      "text/html": [
       "<div>\n",
       "<style scoped>\n",
       "    .dataframe tbody tr th:only-of-type {\n",
       "        vertical-align: middle;\n",
       "    }\n",
       "\n",
       "    .dataframe tbody tr th {\n",
       "        vertical-align: top;\n",
       "    }\n",
       "\n",
       "    .dataframe thead th {\n",
       "        text-align: right;\n",
       "    }\n",
       "</style>\n",
       "<table border=\"1\" class=\"dataframe\">\n",
       "  <thead>\n",
       "    <tr style=\"text-align: right;\">\n",
       "      <th></th>\n",
       "      <th>message</th>\n",
       "      <th>class</th>\n",
       "      <th>message_wo_punctuation</th>\n",
       "      <th>message_lowertext</th>\n",
       "      <th>message_wo_stopwords</th>\n",
       "    </tr>\n",
       "  </thead>\n",
       "  <tbody>\n",
       "    <tr>\n",
       "      <th>0</th>\n",
       "      <td>On Mon, Aug 19, 2002 at 03:08:16PM +0100, John...</td>\n",
       "      <td>0</td>\n",
       "      <td>On Mon Aug 19 2002 at 030816PM 0100 John P Loo...</td>\n",
       "      <td>on mon aug 19 2002 at 030816pm 0100 john p loo...</td>\n",
       "      <td>mon aug 19 2002 030816pm 0100 john p looney me...</td>\n",
       "    </tr>\n",
       "    <tr>\n",
       "      <th>1</th>\n",
       "      <td>SpamAssassin is hurting democracy!\\n\\nOwen\\n\\n...</td>\n",
       "      <td>0</td>\n",
       "      <td>SpamAssassin is hurting democracynnOwennnnnnnh...</td>\n",
       "      <td>spamassassin is hurting democracynnowennnnnnnh...</td>\n",
       "      <td>spamassassin hurting democracynnowennnnnnnhttp...</td>\n",
       "    </tr>\n",
       "    <tr>\n",
       "      <th>2</th>\n",
       "      <td>&lt; &gt;\\n\\n&gt; I downloaded a driver from the nVidia...</td>\n",
       "      <td>0</td>\n",
       "      <td>nn I downloaded a driver from the nVidia webs...</td>\n",
       "      <td>nn i downloaded a driver from the nvidia webs...</td>\n",
       "      <td>nn downloaded driver nvidia website installed ...</td>\n",
       "    </tr>\n",
       "    <tr>\n",
       "      <th>3</th>\n",
       "      <td>I am wondering whether there's a way that I ca...</td>\n",
       "      <td>0</td>\n",
       "      <td>I am wondering whether theres a way that I can...</td>\n",
       "      <td>i am wondering whether theres a way that i can...</td>\n",
       "      <td>wondering whether theres way use sitescooper a...</td>\n",
       "    </tr>\n",
       "    <tr>\n",
       "      <th>4</th>\n",
       "      <td>On Mon, 2 Sep 2002, Russell Turpin wrote:\\n\\n\\...</td>\n",
       "      <td>0</td>\n",
       "      <td>On Mon 2 Sep 2002 Russell Turpin wrotennnn Ada...</td>\n",
       "      <td>on mon 2 sep 2002 russell turpin wrotennnn ada...</td>\n",
       "      <td>mon 2 sep 2002 russell turpin wrotennnn adam b...</td>\n",
       "    </tr>\n",
       "  </tbody>\n",
       "</table>\n",
       "</div>"
      ],
      "text/plain": [
       "                                             message  class  \\\n",
       "0  On Mon, Aug 19, 2002 at 03:08:16PM +0100, John...      0   \n",
       "1  SpamAssassin is hurting democracy!\\n\\nOwen\\n\\n...      0   \n",
       "2  < >\\n\\n> I downloaded a driver from the nVidia...      0   \n",
       "3  I am wondering whether there's a way that I ca...      0   \n",
       "4  On Mon, 2 Sep 2002, Russell Turpin wrote:\\n\\n\\...      0   \n",
       "\n",
       "                              message_wo_punctuation  \\\n",
       "0  On Mon Aug 19 2002 at 030816PM 0100 John P Loo...   \n",
       "1  SpamAssassin is hurting democracynnOwennnnnnnh...   \n",
       "2   nn I downloaded a driver from the nVidia webs...   \n",
       "3  I am wondering whether theres a way that I can...   \n",
       "4  On Mon 2 Sep 2002 Russell Turpin wrotennnn Ada...   \n",
       "\n",
       "                                   message_lowertext  \\\n",
       "0  on mon aug 19 2002 at 030816pm 0100 john p loo...   \n",
       "1  spamassassin is hurting democracynnowennnnnnnh...   \n",
       "2   nn i downloaded a driver from the nvidia webs...   \n",
       "3  i am wondering whether theres a way that i can...   \n",
       "4  on mon 2 sep 2002 russell turpin wrotennnn ada...   \n",
       "\n",
       "                                message_wo_stopwords  \n",
       "0  mon aug 19 2002 030816pm 0100 john p looney me...  \n",
       "1  spamassassin hurting democracynnowennnnnnnhttp...  \n",
       "2  nn downloaded driver nvidia website installed ...  \n",
       "3  wondering whether theres way use sitescooper a...  \n",
       "4  mon 2 sep 2002 russell turpin wrotennnn adam b...  "
      ]
     },
     "execution_count": 101,
     "metadata": {},
     "output_type": "execute_result"
    }
   ],
   "source": [
    "df['message_wo_stopwords']=df['message_lowertext'].apply(lambda x:remove_stopwords(x))\n",
    "df.head()"
   ]
  },
  {
   "cell_type": "code",
   "execution_count": 102,
   "metadata": {},
   "outputs": [
    {
     "data": {
      "text/html": [
       "<div>\n",
       "<style scoped>\n",
       "    .dataframe tbody tr th:only-of-type {\n",
       "        vertical-align: middle;\n",
       "    }\n",
       "\n",
       "    .dataframe tbody tr th {\n",
       "        vertical-align: top;\n",
       "    }\n",
       "\n",
       "    .dataframe thead th {\n",
       "        text-align: right;\n",
       "    }\n",
       "</style>\n",
       "<table border=\"1\" class=\"dataframe\">\n",
       "  <thead>\n",
       "    <tr style=\"text-align: right;\">\n",
       "      <th></th>\n",
       "      <th>message</th>\n",
       "      <th>class</th>\n",
       "      <th>message_wo_punctuation</th>\n",
       "      <th>message_lowertext</th>\n",
       "      <th>message_wo_stopwords</th>\n",
       "      <th>message_wo_hyperlinks</th>\n",
       "    </tr>\n",
       "  </thead>\n",
       "  <tbody>\n",
       "    <tr>\n",
       "      <th>0</th>\n",
       "      <td>On Mon, Aug 19, 2002 at 03:08:16PM +0100, John...</td>\n",
       "      <td>0</td>\n",
       "      <td>On Mon Aug 19 2002 at 030816PM 0100 John P Loo...</td>\n",
       "      <td>on mon aug 19 2002 at 030816pm 0100 john p loo...</td>\n",
       "      <td>mon aug 19 2002 030816pm 0100 john p looney me...</td>\n",
       "      <td>mon aug 19 2002 030816pm 0100 john p looney me...</td>\n",
       "    </tr>\n",
       "    <tr>\n",
       "      <th>1</th>\n",
       "      <td>SpamAssassin is hurting democracy!\\n\\nOwen\\n\\n...</td>\n",
       "      <td>0</td>\n",
       "      <td>SpamAssassin is hurting democracynnOwennnnnnnh...</td>\n",
       "      <td>spamassassin is hurting democracynnowennnnnnnh...</td>\n",
       "      <td>spamassassin hurting democracynnowennnnnnnhttp...</td>\n",
       "      <td>spamassassin hurting democracynnowennnnnnn lev...</td>\n",
       "    </tr>\n",
       "    <tr>\n",
       "      <th>2</th>\n",
       "      <td>&lt; &gt;\\n\\n&gt; I downloaded a driver from the nVidia...</td>\n",
       "      <td>0</td>\n",
       "      <td>nn I downloaded a driver from the nVidia webs...</td>\n",
       "      <td>nn i downloaded a driver from the nvidia webs...</td>\n",
       "      <td>nn downloaded driver nvidia website installed ...</td>\n",
       "      <td>nn downloaded driver nvidia website installed ...</td>\n",
       "    </tr>\n",
       "    <tr>\n",
       "      <th>3</th>\n",
       "      <td>I am wondering whether there's a way that I ca...</td>\n",
       "      <td>0</td>\n",
       "      <td>I am wondering whether theres a way that I can...</td>\n",
       "      <td>i am wondering whether theres a way that i can...</td>\n",
       "      <td>wondering whether theres way use sitescooper a...</td>\n",
       "      <td>wondering whether theres way use sitescooper a...</td>\n",
       "    </tr>\n",
       "    <tr>\n",
       "      <th>4</th>\n",
       "      <td>On Mon, 2 Sep 2002, Russell Turpin wrote:\\n\\n\\...</td>\n",
       "      <td>0</td>\n",
       "      <td>On Mon 2 Sep 2002 Russell Turpin wrotennnn Ada...</td>\n",
       "      <td>on mon 2 sep 2002 russell turpin wrotennnn ada...</td>\n",
       "      <td>mon 2 sep 2002 russell turpin wrotennnn adam b...</td>\n",
       "      <td>mon 2 sep 2002 russell turpin wrotennnn adam b...</td>\n",
       "    </tr>\n",
       "  </tbody>\n",
       "</table>\n",
       "</div>"
      ],
      "text/plain": [
       "                                             message  class  \\\n",
       "0  On Mon, Aug 19, 2002 at 03:08:16PM +0100, John...      0   \n",
       "1  SpamAssassin is hurting democracy!\\n\\nOwen\\n\\n...      0   \n",
       "2  < >\\n\\n> I downloaded a driver from the nVidia...      0   \n",
       "3  I am wondering whether there's a way that I ca...      0   \n",
       "4  On Mon, 2 Sep 2002, Russell Turpin wrote:\\n\\n\\...      0   \n",
       "\n",
       "                              message_wo_punctuation  \\\n",
       "0  On Mon Aug 19 2002 at 030816PM 0100 John P Loo...   \n",
       "1  SpamAssassin is hurting democracynnOwennnnnnnh...   \n",
       "2   nn I downloaded a driver from the nVidia webs...   \n",
       "3  I am wondering whether theres a way that I can...   \n",
       "4  On Mon 2 Sep 2002 Russell Turpin wrotennnn Ada...   \n",
       "\n",
       "                                   message_lowertext  \\\n",
       "0  on mon aug 19 2002 at 030816pm 0100 john p loo...   \n",
       "1  spamassassin is hurting democracynnowennnnnnnh...   \n",
       "2   nn i downloaded a driver from the nvidia webs...   \n",
       "3  i am wondering whether theres a way that i can...   \n",
       "4  on mon 2 sep 2002 russell turpin wrotennnn ada...   \n",
       "\n",
       "                                message_wo_stopwords  \\\n",
       "0  mon aug 19 2002 030816pm 0100 john p looney me...   \n",
       "1  spamassassin hurting democracynnowennnnnnnhttp...   \n",
       "2  nn downloaded driver nvidia website installed ...   \n",
       "3  wondering whether theres way use sitescooper a...   \n",
       "4  mon 2 sep 2002 russell turpin wrotennnn adam b...   \n",
       "\n",
       "                               message_wo_hyperlinks  \n",
       "0  mon aug 19 2002 030816pm 0100 john p looney me...  \n",
       "1  spamassassin hurting democracynnowennnnnnn lev...  \n",
       "2  nn downloaded driver nvidia website installed ...  \n",
       "3  wondering whether theres way use sitescooper a...  \n",
       "4  mon 2 sep 2002 russell turpin wrotennnn adam b...  "
      ]
     },
     "execution_count": 102,
     "metadata": {},
     "output_type": "execute_result"
    }
   ],
   "source": [
    "import re\n",
    "\n",
    "\n",
    "def remove_hyperlink(word):\n",
    "    return re.sub(r\"http\\S+\", \"\", word)\n",
    "df['message_wo_hyperlinks']=df['message_wo_stopwords'].apply(lambda x:remove_hyperlink(x))\n",
    "df.head()"
   ]
  },
  {
   "cell_type": "code",
   "execution_count": 103,
   "metadata": {},
   "outputs": [],
   "source": [
    "import pandas as pd\n",
    "from sklearn.feature_extraction.text import CountVectorizer, TfidfVectorizer\n",
    "from sklearn.model_selection import train_test_split\n",
    "from sklearn.naive_bayes import MultinomialNB\n",
    "from sklearn.metrics import accuracy_score, classification_report\n"
   ]
  },
  {
   "cell_type": "code",
   "execution_count": 104,
   "metadata": {},
   "outputs": [
    {
     "data": {
      "text/html": [
       "<div>\n",
       "<style scoped>\n",
       "    .dataframe tbody tr th:only-of-type {\n",
       "        vertical-align: middle;\n",
       "    }\n",
       "\n",
       "    .dataframe tbody tr th {\n",
       "        vertical-align: top;\n",
       "    }\n",
       "\n",
       "    .dataframe thead th {\n",
       "        text-align: right;\n",
       "    }\n",
       "</style>\n",
       "<table border=\"1\" class=\"dataframe\">\n",
       "  <thead>\n",
       "    <tr style=\"text-align: right;\">\n",
       "      <th></th>\n",
       "      <th>message</th>\n",
       "      <th>class</th>\n",
       "      <th>message_wo_punctuation</th>\n",
       "      <th>message_lowertext</th>\n",
       "      <th>message_wo_stopwords</th>\n",
       "      <th>message_wo_hyperlinks</th>\n",
       "      <th>message_no_htmltag</th>\n",
       "    </tr>\n",
       "  </thead>\n",
       "  <tbody>\n",
       "    <tr>\n",
       "      <th>0</th>\n",
       "      <td>On Mon, Aug 19, 2002 at 03:08:16PM +0100, John...</td>\n",
       "      <td>0</td>\n",
       "      <td>On Mon Aug 19 2002 at 030816PM 0100 John P Loo...</td>\n",
       "      <td>on mon aug 19 2002 at 030816pm 0100 john p loo...</td>\n",
       "      <td>mon aug 19 2002 030816pm 0100 john p looney me...</td>\n",
       "      <td>mon aug 19 2002 030816pm 0100 john p looney me...</td>\n",
       "      <td>mon aug 19 2002 030816pm 0100 john p looney me...</td>\n",
       "    </tr>\n",
       "    <tr>\n",
       "      <th>1</th>\n",
       "      <td>SpamAssassin is hurting democracy!\\n\\nOwen\\n\\n...</td>\n",
       "      <td>0</td>\n",
       "      <td>SpamAssassin is hurting democracynnOwennnnnnnh...</td>\n",
       "      <td>spamassassin is hurting democracynnowennnnnnnh...</td>\n",
       "      <td>spamassassin hurting democracynnowennnnnnnhttp...</td>\n",
       "      <td>spamassassin hurting democracynnowennnnnnn lev...</td>\n",
       "      <td>spamassassin hurting democracynnowennnnnnn lev...</td>\n",
       "    </tr>\n",
       "  </tbody>\n",
       "</table>\n",
       "</div>"
      ],
      "text/plain": [
       "                                             message  class  \\\n",
       "0  On Mon, Aug 19, 2002 at 03:08:16PM +0100, John...      0   \n",
       "1  SpamAssassin is hurting democracy!\\n\\nOwen\\n\\n...      0   \n",
       "\n",
       "                              message_wo_punctuation  \\\n",
       "0  On Mon Aug 19 2002 at 030816PM 0100 John P Loo...   \n",
       "1  SpamAssassin is hurting democracynnOwennnnnnnh...   \n",
       "\n",
       "                                   message_lowertext  \\\n",
       "0  on mon aug 19 2002 at 030816pm 0100 john p loo...   \n",
       "1  spamassassin is hurting democracynnowennnnnnnh...   \n",
       "\n",
       "                                message_wo_stopwords  \\\n",
       "0  mon aug 19 2002 030816pm 0100 john p looney me...   \n",
       "1  spamassassin hurting democracynnowennnnnnnhttp...   \n",
       "\n",
       "                               message_wo_hyperlinks  \\\n",
       "0  mon aug 19 2002 030816pm 0100 john p looney me...   \n",
       "1  spamassassin hurting democracynnowennnnnnn lev...   \n",
       "\n",
       "                                  message_no_htmltag  \n",
       "0  mon aug 19 2002 030816pm 0100 john p looney me...  \n",
       "1  spamassassin hurting democracynnowennnnnnn lev...  "
      ]
     },
     "execution_count": 104,
     "metadata": {},
     "output_type": "execute_result"
    }
   ],
   "source": [
    "from bs4 import BeautifulSoup\n",
    "\n",
    "def remove_html_tags(text):\n",
    "    soup = BeautifulSoup(text, \"html.parser\")\n",
    "    cleaned_text = soup.get_text()\n",
    "    return cleaned_text\n",
    "df['message_no_htmltag']=df['message_wo_hyperlinks'].apply(lambda x:remove_html_tags(x))\n",
    "df.head(2)"
   ]
  },
  {
   "cell_type": "code",
   "execution_count": 105,
   "metadata": {},
   "outputs": [],
   "source": [
    "import pandas as pd\n",
    "import re\n",
    "import string\n",
    "from bs4 import BeautifulSoup\n",
    "import nltk\n",
    "from nltk.stem import PorterStemmer\n",
    "from nltk.stem.wordnet import WordNetLemmatizer\n",
    "import spacy"
   ]
  },
  {
   "cell_type": "code",
   "execution_count": 106,
   "metadata": {},
   "outputs": [],
   "source": [
    "import spacy\n",
    "import re\n",
    "import string\n",
    "import nltk\n",
    "from nltk.corpus import stopwords\n",
    "\n",
    "# Load spacy\n",
    "nlp = spacy.load('en_core_web_sm')\n",
    "\n",
    "def clean_string(text, stem=\"None\"):\n",
    "    final_string = \"\"\n",
    "\n",
    "    # Make lowercase\n",
    "    text = text.lower()\n",
    "\n",
    "    # Remove line breaks\n",
    "    text = re.sub(r'\\n', ' ', text)  # Replace line breaks with spaces\n",
    "\n",
    "    # Remove punctuation\n",
    "    translator = str.maketrans('', '', string.punctuation)\n",
    "    text = text.translate(translator)\n",
    "\n",
    "    # Remove stop words\n",
    "    text = text.split()\n",
    "    useless_words = stopwords.words(\"english\")\n",
    "    useless_words = useless_words + ['hi', 'im']\n",
    "\n",
    "    text_filtered = [word for word in text if word not in useless_words]\n",
    "\n",
    "    # Remove numbers\n",
    "    text_filtered = [re.sub(r'\\d', '', w) for w in text_filtered]\n",
    "\n",
    "    # Join the filtered words into a final string\n",
    "    final_string = ' '.join(text_filtered)\n",
    "    # Stem or Lemmatize\n",
    "    if stem == 'Stem':\n",
    "        stemmer = PorterStemmer() \n",
    "        text_stemmed = [stemmer.stem(y) for y in text_filtered]\n",
    "    elif stem == 'Lem':\n",
    "        lem = WordNetLemmatizer()\n",
    "        text_stemmed = [lem.lemmatize(y) for y in text_filtered]\n",
    "    elif stem == 'Spacy':\n",
    "        text_filtered = nlp(' '.join(text_filtered))\n",
    "        text_stemmed = [y.lemma_ for y in text_filtered]\n",
    "    else:\n",
    "        text_stemmed = text_filtered\n",
    "\n",
    "    final_string = ' '.join(text_stemmed)\n",
    "\n",
    "    return final_string\n",
    "    \n",
    "\n",
    "\n",
    "\n"
   ]
  },
  {
   "cell_type": "code",
   "execution_count": 107,
   "metadata": {},
   "outputs": [
    {
     "data": {
      "text/html": [
       "<div>\n",
       "<style scoped>\n",
       "    .dataframe tbody tr th:only-of-type {\n",
       "        vertical-align: middle;\n",
       "    }\n",
       "\n",
       "    .dataframe tbody tr th {\n",
       "        vertical-align: top;\n",
       "    }\n",
       "\n",
       "    .dataframe thead th {\n",
       "        text-align: right;\n",
       "    }\n",
       "</style>\n",
       "<table border=\"1\" class=\"dataframe\">\n",
       "  <thead>\n",
       "    <tr style=\"text-align: right;\">\n",
       "      <th></th>\n",
       "      <th>message</th>\n",
       "      <th>class</th>\n",
       "      <th>message_wo_punctuation</th>\n",
       "      <th>message_lowertext</th>\n",
       "      <th>message_wo_stopwords</th>\n",
       "      <th>message_wo_hyperlinks</th>\n",
       "      <th>message_no_htmltag</th>\n",
       "      <th>cleaned_message</th>\n",
       "    </tr>\n",
       "  </thead>\n",
       "  <tbody>\n",
       "    <tr>\n",
       "      <th>0</th>\n",
       "      <td>On Mon, Aug 19, 2002 at 03:08:16PM +0100, John...</td>\n",
       "      <td>0</td>\n",
       "      <td>On Mon Aug 19 2002 at 030816PM 0100 John P Loo...</td>\n",
       "      <td>on mon aug 19 2002 at 030816pm 0100 john p loo...</td>\n",
       "      <td>mon aug 19 2002 030816pm 0100 john p looney me...</td>\n",
       "      <td>mon aug 19 2002 030816pm 0100 john p looney me...</td>\n",
       "      <td>mon aug 19 2002 030816pm 0100 john p looney me...</td>\n",
       "      <td>mon aug   pm  john p looney mentionednn likely...</td>\n",
       "    </tr>\n",
       "    <tr>\n",
       "      <th>1</th>\n",
       "      <td>SpamAssassin is hurting democracy!\\n\\nOwen\\n\\n...</td>\n",
       "      <td>0</td>\n",
       "      <td>SpamAssassin is hurting democracynnOwennnnnnnh...</td>\n",
       "      <td>spamassassin is hurting democracynnowennnnnnnh...</td>\n",
       "      <td>spamassassin hurting democracynnowennnnnnnhttp...</td>\n",
       "      <td>spamassassin hurting democracynnowennnnnnn lev...</td>\n",
       "      <td>spamassassin hurting democracynnowennnnnnn lev...</td>\n",
       "      <td>spamassassin hurting democracynnowennnnnnn lev...</td>\n",
       "    </tr>\n",
       "  </tbody>\n",
       "</table>\n",
       "</div>"
      ],
      "text/plain": [
       "                                             message  class  \\\n",
       "0  On Mon, Aug 19, 2002 at 03:08:16PM +0100, John...      0   \n",
       "1  SpamAssassin is hurting democracy!\\n\\nOwen\\n\\n...      0   \n",
       "\n",
       "                              message_wo_punctuation  \\\n",
       "0  On Mon Aug 19 2002 at 030816PM 0100 John P Loo...   \n",
       "1  SpamAssassin is hurting democracynnOwennnnnnnh...   \n",
       "\n",
       "                                   message_lowertext  \\\n",
       "0  on mon aug 19 2002 at 030816pm 0100 john p loo...   \n",
       "1  spamassassin is hurting democracynnowennnnnnnh...   \n",
       "\n",
       "                                message_wo_stopwords  \\\n",
       "0  mon aug 19 2002 030816pm 0100 john p looney me...   \n",
       "1  spamassassin hurting democracynnowennnnnnnhttp...   \n",
       "\n",
       "                               message_wo_hyperlinks  \\\n",
       "0  mon aug 19 2002 030816pm 0100 john p looney me...   \n",
       "1  spamassassin hurting democracynnowennnnnnn lev...   \n",
       "\n",
       "                                  message_no_htmltag  \\\n",
       "0  mon aug 19 2002 030816pm 0100 john p looney me...   \n",
       "1  spamassassin hurting democracynnowennnnnnn lev...   \n",
       "\n",
       "                                     cleaned_message  \n",
       "0  mon aug   pm  john p looney mentionednn likely...  \n",
       "1  spamassassin hurting democracynnowennnnnnn lev...  "
      ]
     },
     "execution_count": 107,
     "metadata": {},
     "output_type": "execute_result"
    }
   ],
   "source": [
    "df['cleaned_message']=df['message_no_htmltag'].apply(lambda x: clean_string(x))\n",
    "df.head(2)"
   ]
  },
  {
   "cell_type": "code",
   "execution_count": 108,
   "metadata": {},
   "outputs": [],
   "source": [
    "import pandas as pd\n",
    "from sklearn.feature_extraction.text import CountVectorizer, TfidfVectorizer\n",
    "from sklearn.model_selection import train_test_split\n",
    "from sklearn.naive_bayes import MultinomialNB\n",
    "from sklearn.metrics import accuracy_score, classification_report\n"
   ]
  },
  {
   "cell_type": "code",
   "execution_count": 109,
   "metadata": {},
   "outputs": [],
   "source": [
    "X = df['cleaned_message']\n",
    "y = df['class']\n",
    "\n",
    "X_train, X_test, y_train, y_test = train_test_split(X, y, test_size=0.2, random_state=42)\n"
   ]
  },
  {
   "cell_type": "code",
   "execution_count": 110,
   "metadata": {},
   "outputs": [],
   "source": [
    "drop_columns = ['message_wo_punctuation', 'message_lowertext', 'message_wo_stopwords', 'message_wo_hyperlinks', 'message_no_htmltag','message']\n",
    "df=df.drop(columns=drop_columns, axis=1)\n"
   ]
  },
  {
   "cell_type": "code",
   "execution_count": 111,
   "metadata": {},
   "outputs": [
    {
     "data": {
      "text/html": [
       "<div>\n",
       "<style scoped>\n",
       "    .dataframe tbody tr th:only-of-type {\n",
       "        vertical-align: middle;\n",
       "    }\n",
       "\n",
       "    .dataframe tbody tr th {\n",
       "        vertical-align: top;\n",
       "    }\n",
       "\n",
       "    .dataframe thead th {\n",
       "        text-align: right;\n",
       "    }\n",
       "</style>\n",
       "<table border=\"1\" class=\"dataframe\">\n",
       "  <thead>\n",
       "    <tr style=\"text-align: right;\">\n",
       "      <th></th>\n",
       "      <th>class</th>\n",
       "      <th>cleaned_message</th>\n",
       "    </tr>\n",
       "  </thead>\n",
       "  <tbody>\n",
       "    <tr>\n",
       "      <th>0</th>\n",
       "      <td>0</td>\n",
       "      <td>mon aug   pm  john p looney mentionednn likely...</td>\n",
       "    </tr>\n",
       "    <tr>\n",
       "      <th>1</th>\n",
       "      <td>0</td>\n",
       "      <td>spamassassin hurting democracynnowennnnnnn lev...</td>\n",
       "    </tr>\n",
       "    <tr>\n",
       "      <th>2</th>\n",
       "      <td>0</td>\n",
       "      <td>nn downloaded driver nvidia website installed ...</td>\n",
       "    </tr>\n",
       "    <tr>\n",
       "      <th>3</th>\n",
       "      <td>0</td>\n",
       "      <td>wondering whether theres way use sitescooper a...</td>\n",
       "    </tr>\n",
       "    <tr>\n",
       "      <th>4</th>\n",
       "      <td>0</td>\n",
       "      <td>mon  sep  russell turpin wrotennnn adam beberg...</td>\n",
       "    </tr>\n",
       "  </tbody>\n",
       "</table>\n",
       "</div>"
      ],
      "text/plain": [
       "   class                                    cleaned_message\n",
       "0      0  mon aug   pm  john p looney mentionednn likely...\n",
       "1      0  spamassassin hurting democracynnowennnnnnn lev...\n",
       "2      0  nn downloaded driver nvidia website installed ...\n",
       "3      0  wondering whether theres way use sitescooper a...\n",
       "4      0  mon  sep  russell turpin wrotennnn adam beberg..."
      ]
     },
     "execution_count": 111,
     "metadata": {},
     "output_type": "execute_result"
    }
   ],
   "source": [
    "df.head()"
   ]
  },
  {
   "cell_type": "code",
   "execution_count": 112,
   "metadata": {},
   "outputs": [
    {
     "data": {
      "text/html": [
       "<div>\n",
       "<style scoped>\n",
       "    .dataframe tbody tr th:only-of-type {\n",
       "        vertical-align: middle;\n",
       "    }\n",
       "\n",
       "    .dataframe tbody tr th {\n",
       "        vertical-align: top;\n",
       "    }\n",
       "\n",
       "    .dataframe thead th {\n",
       "        text-align: right;\n",
       "    }\n",
       "</style>\n",
       "<table border=\"1\" class=\"dataframe\">\n",
       "  <thead>\n",
       "    <tr style=\"text-align: right;\">\n",
       "      <th></th>\n",
       "      <th>class</th>\n",
       "      <th>cleaned_message</th>\n",
       "      <th>stemmed_message</th>\n",
       "    </tr>\n",
       "  </thead>\n",
       "  <tbody>\n",
       "    <tr>\n",
       "      <th>0</th>\n",
       "      <td>0</td>\n",
       "      <td>mon aug   pm  john p looney mentionednn likely...</td>\n",
       "      <td>mon aug pm john p looney mentionednn like get ...</td>\n",
       "    </tr>\n",
       "    <tr>\n",
       "      <th>1</th>\n",
       "      <td>0</td>\n",
       "      <td>spamassassin hurting democracynnowennnnnnn lev...</td>\n",
       "      <td>spamassassin hurt democracynnowennnnnnn level ...</td>\n",
       "    </tr>\n",
       "    <tr>\n",
       "      <th>2</th>\n",
       "      <td>0</td>\n",
       "      <td>nn downloaded driver nvidia website installed ...</td>\n",
       "      <td>nn download driver nvidia websit instal use rp...</td>\n",
       "    </tr>\n",
       "    <tr>\n",
       "      <th>3</th>\n",
       "      <td>0</td>\n",
       "      <td>wondering whether theres way use sitescooper a...</td>\n",
       "      <td>wonder whether there way use sitescoop andor p...</td>\n",
       "    </tr>\n",
       "    <tr>\n",
       "      <th>4</th>\n",
       "      <td>0</td>\n",
       "      <td>mon  sep  russell turpin wrotennnn adam beberg...</td>\n",
       "      <td>mon sep russel turpin wrotennnn adam bebergnn ...</td>\n",
       "    </tr>\n",
       "  </tbody>\n",
       "</table>\n",
       "</div>"
      ],
      "text/plain": [
       "   class                                    cleaned_message  \\\n",
       "0      0  mon aug   pm  john p looney mentionednn likely...   \n",
       "1      0  spamassassin hurting democracynnowennnnnnn lev...   \n",
       "2      0  nn downloaded driver nvidia website installed ...   \n",
       "3      0  wondering whether theres way use sitescooper a...   \n",
       "4      0  mon  sep  russell turpin wrotennnn adam beberg...   \n",
       "\n",
       "                                     stemmed_message  \n",
       "0  mon aug pm john p looney mentionednn like get ...  \n",
       "1  spamassassin hurt democracynnowennnnnnn level ...  \n",
       "2  nn download driver nvidia websit instal use rp...  \n",
       "3  wonder whether there way use sitescoop andor p...  \n",
       "4  mon sep russel turpin wrotennnn adam bebergnn ...  "
      ]
     },
     "execution_count": 112,
     "metadata": {},
     "output_type": "execute_result"
    }
   ],
   "source": [
    "from nltk.stem import PorterStemmer\n",
    "from nltk.tokenize import word_tokenize\n",
    "stemmer = PorterStemmer()\n",
    "def stem_text(text):\n",
    "    words = word_tokenize(text)\n",
    "    stemmed_words = [stemmer.stem(word) for word in words]\n",
    "    return ' '.join(stemmed_words)\n",
    "\n",
    "\n",
    "df['stemmed_message'] = df['cleaned_message'].apply(lambda x:stem_text(x))\n",
    "df.head()\n"
   ]
  },
  {
   "cell_type": "code",
   "execution_count": 113,
   "metadata": {},
   "outputs": [
    {
     "name": "stderr",
     "output_type": "stream",
     "text": [
      "[nltk_data] Downloading package punkt to\n",
      "[nltk_data]     C:\\Users\\TANISHA\\AppData\\Roaming\\nltk_data...\n",
      "[nltk_data]   Package punkt is already up-to-date!\n"
     ]
    },
    {
     "data": {
      "text/plain": [
       "True"
      ]
     },
     "execution_count": 113,
     "metadata": {},
     "output_type": "execute_result"
    }
   ],
   "source": [
    "import nltk\n",
    "nltk.download('punkt')\n"
   ]
  },
  {
   "cell_type": "code",
   "execution_count": 114,
   "metadata": {},
   "outputs": [],
   "source": [
    "df=df.drop('cleaned_message',axis=1)"
   ]
  },
  {
   "cell_type": "code",
   "execution_count": 115,
   "metadata": {},
   "outputs": [
    {
     "data": {
      "text/html": [
       "<div>\n",
       "<style scoped>\n",
       "    .dataframe tbody tr th:only-of-type {\n",
       "        vertical-align: middle;\n",
       "    }\n",
       "\n",
       "    .dataframe tbody tr th {\n",
       "        vertical-align: top;\n",
       "    }\n",
       "\n",
       "    .dataframe thead th {\n",
       "        text-align: right;\n",
       "    }\n",
       "</style>\n",
       "<table border=\"1\" class=\"dataframe\">\n",
       "  <thead>\n",
       "    <tr style=\"text-align: right;\">\n",
       "      <th></th>\n",
       "      <th>class</th>\n",
       "      <th>stemmed_message</th>\n",
       "    </tr>\n",
       "  </thead>\n",
       "  <tbody>\n",
       "    <tr>\n",
       "      <th>0</th>\n",
       "      <td>0</td>\n",
       "      <td>mon aug pm john p looney mentionednn like get ...</td>\n",
       "    </tr>\n",
       "    <tr>\n",
       "      <th>1</th>\n",
       "      <td>0</td>\n",
       "      <td>spamassassin hurt democracynnowennnnnnn level ...</td>\n",
       "    </tr>\n",
       "    <tr>\n",
       "      <th>2</th>\n",
       "      <td>0</td>\n",
       "      <td>nn download driver nvidia websit instal use rp...</td>\n",
       "    </tr>\n",
       "    <tr>\n",
       "      <th>3</th>\n",
       "      <td>0</td>\n",
       "      <td>wonder whether there way use sitescoop andor p...</td>\n",
       "    </tr>\n",
       "    <tr>\n",
       "      <th>4</th>\n",
       "      <td>0</td>\n",
       "      <td>mon sep russel turpin wrotennnn adam bebergnn ...</td>\n",
       "    </tr>\n",
       "  </tbody>\n",
       "</table>\n",
       "</div>"
      ],
      "text/plain": [
       "   class                                    stemmed_message\n",
       "0      0  mon aug pm john p looney mentionednn like get ...\n",
       "1      0  spamassassin hurt democracynnowennnnnnn level ...\n",
       "2      0  nn download driver nvidia websit instal use rp...\n",
       "3      0  wonder whether there way use sitescoop andor p...\n",
       "4      0  mon sep russel turpin wrotennnn adam bebergnn ..."
      ]
     },
     "execution_count": 115,
     "metadata": {},
     "output_type": "execute_result"
    }
   ],
   "source": [
    "df.head()"
   ]
  },
  {
   "cell_type": "code",
   "execution_count": 116,
   "metadata": {},
   "outputs": [
    {
     "data": {
      "text/plain": [
       "class              0\n",
       "stemmed_message    0\n",
       "dtype: int64"
      ]
     },
     "execution_count": 116,
     "metadata": {},
     "output_type": "execute_result"
    }
   ],
   "source": [
    "df.isnull().sum()"
   ]
  },
  {
   "cell_type": "code",
   "execution_count": 136,
   "metadata": {},
   "outputs": [
    {
     "data": {
      "text/html": [
       "<div>\n",
       "<style scoped>\n",
       "    .dataframe tbody tr th:only-of-type {\n",
       "        vertical-align: middle;\n",
       "    }\n",
       "\n",
       "    .dataframe tbody tr th {\n",
       "        vertical-align: top;\n",
       "    }\n",
       "\n",
       "    .dataframe thead th {\n",
       "        text-align: right;\n",
       "    }\n",
       "</style>\n",
       "<table border=\"1\" class=\"dataframe\">\n",
       "  <thead>\n",
       "    <tr style=\"text-align: right;\">\n",
       "      <th></th>\n",
       "      <th>class</th>\n",
       "      <th>message</th>\n",
       "    </tr>\n",
       "  </thead>\n",
       "  <tbody>\n",
       "    <tr>\n",
       "      <th>0</th>\n",
       "      <td>0</td>\n",
       "      <td>mon aug pm john p looney mentionednn like get ...</td>\n",
       "    </tr>\n",
       "    <tr>\n",
       "      <th>1</th>\n",
       "      <td>0</td>\n",
       "      <td>spamassassin hurt democracynnowennnnnnn level ...</td>\n",
       "    </tr>\n",
       "    <tr>\n",
       "      <th>2</th>\n",
       "      <td>0</td>\n",
       "      <td>nn download driver nvidia websit instal use rp...</td>\n",
       "    </tr>\n",
       "    <tr>\n",
       "      <th>3</th>\n",
       "      <td>0</td>\n",
       "      <td>wonder whether there way use sitescoop andor p...</td>\n",
       "    </tr>\n",
       "    <tr>\n",
       "      <th>4</th>\n",
       "      <td>0</td>\n",
       "      <td>mon sep russel turpin wrotennnn adam bebergnn ...</td>\n",
       "    </tr>\n",
       "  </tbody>\n",
       "</table>\n",
       "</div>"
      ],
      "text/plain": [
       "   class                                            message\n",
       "0      0  mon aug pm john p looney mentionednn like get ...\n",
       "1      0  spamassassin hurt democracynnowennnnnnn level ...\n",
       "2      0  nn download driver nvidia websit instal use rp...\n",
       "3      0  wonder whether there way use sitescoop andor p...\n",
       "4      0  mon sep russel turpin wrotennnn adam bebergnn ..."
      ]
     },
     "execution_count": 136,
     "metadata": {},
     "output_type": "execute_result"
    }
   ],
   "source": [
    "df.head()"
   ]
  },
  {
   "cell_type": "code",
   "execution_count": 135,
   "metadata": {},
   "outputs": [],
   "source": [
    "count_vectorizer = CountVectorizer()\n",
    "X = count_vectorizer.fit_transform(df['message'])\n"
   ]
  },
  {
   "cell_type": "code",
   "execution_count": 157,
   "metadata": {},
   "outputs": [
    {
     "data": {
      "text/plain": [
       "numpy.ndarray"
      ]
     },
     "execution_count": 157,
     "metadata": {},
     "output_type": "execute_result"
    }
   ],
   "source": [
    "y=df['class'].to_numpy()\n",
    "y.__class__"
   ]
  },
  {
   "cell_type": "code",
   "execution_count": 137,
   "metadata": {},
   "outputs": [
    {
     "data": {
      "text/plain": [
       "scipy.sparse._csr.csr_matrix"
      ]
     },
     "execution_count": 137,
     "metadata": {},
     "output_type": "execute_result"
    }
   ],
   "source": [
    "X.__class__"
   ]
  },
  {
   "cell_type": "code",
   "execution_count": 121,
   "metadata": {},
   "outputs": [],
   "source": [
    "X_train, X_test, y_train, y_test = train_test_split(X, y, test_size=0.2, random_state=42)\n"
   ]
  },
  {
   "cell_type": "code",
   "execution_count": 122,
   "metadata": {},
   "outputs": [
    {
     "data": {
      "text/html": [
       "<div>\n",
       "<style scoped>\n",
       "    .dataframe tbody tr th:only-of-type {\n",
       "        vertical-align: middle;\n",
       "    }\n",
       "\n",
       "    .dataframe tbody tr th {\n",
       "        vertical-align: top;\n",
       "    }\n",
       "\n",
       "    .dataframe thead th {\n",
       "        text-align: right;\n",
       "    }\n",
       "</style>\n",
       "<table border=\"1\" class=\"dataframe\">\n",
       "  <thead>\n",
       "    <tr style=\"text-align: right;\">\n",
       "      <th></th>\n",
       "      <th>class</th>\n",
       "      <th>stemmed_message</th>\n",
       "    </tr>\n",
       "  </thead>\n",
       "  <tbody>\n",
       "    <tr>\n",
       "      <th>0</th>\n",
       "      <td>0</td>\n",
       "      <td>mon aug pm john p looney mentionednn like get ...</td>\n",
       "    </tr>\n",
       "    <tr>\n",
       "      <th>1</th>\n",
       "      <td>0</td>\n",
       "      <td>spamassassin hurt democracynnowennnnnnn level ...</td>\n",
       "    </tr>\n",
       "    <tr>\n",
       "      <th>2</th>\n",
       "      <td>0</td>\n",
       "      <td>nn download driver nvidia websit instal use rp...</td>\n",
       "    </tr>\n",
       "    <tr>\n",
       "      <th>3</th>\n",
       "      <td>0</td>\n",
       "      <td>wonder whether there way use sitescoop andor p...</td>\n",
       "    </tr>\n",
       "    <tr>\n",
       "      <th>4</th>\n",
       "      <td>0</td>\n",
       "      <td>mon sep russel turpin wrotennnn adam bebergnn ...</td>\n",
       "    </tr>\n",
       "  </tbody>\n",
       "</table>\n",
       "</div>"
      ],
      "text/plain": [
       "   class                                    stemmed_message\n",
       "0      0  mon aug pm john p looney mentionednn like get ...\n",
       "1      0  spamassassin hurt democracynnowennnnnnn level ...\n",
       "2      0  nn download driver nvidia websit instal use rp...\n",
       "3      0  wonder whether there way use sitescoop andor p...\n",
       "4      0  mon sep russel turpin wrotennnn adam bebergnn ..."
      ]
     },
     "execution_count": 122,
     "metadata": {},
     "output_type": "execute_result"
    }
   ],
   "source": [
    "df.head()"
   ]
  },
  {
   "cell_type": "code",
   "execution_count": 123,
   "metadata": {},
   "outputs": [],
   "source": [
    "df = df.rename(columns={'stemmed_message': 'message'})"
   ]
  },
  {
   "cell_type": "code",
   "execution_count": 124,
   "metadata": {},
   "outputs": [
    {
     "data": {
      "text/html": [
       "<div>\n",
       "<style scoped>\n",
       "    .dataframe tbody tr th:only-of-type {\n",
       "        vertical-align: middle;\n",
       "    }\n",
       "\n",
       "    .dataframe tbody tr th {\n",
       "        vertical-align: top;\n",
       "    }\n",
       "\n",
       "    .dataframe thead th {\n",
       "        text-align: right;\n",
       "    }\n",
       "</style>\n",
       "<table border=\"1\" class=\"dataframe\">\n",
       "  <thead>\n",
       "    <tr style=\"text-align: right;\">\n",
       "      <th></th>\n",
       "      <th>class</th>\n",
       "      <th>message</th>\n",
       "    </tr>\n",
       "  </thead>\n",
       "  <tbody>\n",
       "    <tr>\n",
       "      <th>0</th>\n",
       "      <td>0</td>\n",
       "      <td>mon aug pm john p looney mentionednn like get ...</td>\n",
       "    </tr>\n",
       "    <tr>\n",
       "      <th>1</th>\n",
       "      <td>0</td>\n",
       "      <td>spamassassin hurt democracynnowennnnnnn level ...</td>\n",
       "    </tr>\n",
       "  </tbody>\n",
       "</table>\n",
       "</div>"
      ],
      "text/plain": [
       "   class                                            message\n",
       "0      0  mon aug pm john p looney mentionednn like get ...\n",
       "1      0  spamassassin hurt democracynnowennnnnnn level ..."
      ]
     },
     "execution_count": 124,
     "metadata": {},
     "output_type": "execute_result"
    }
   ],
   "source": [
    "df.head(2)"
   ]
  },
  {
   "cell_type": "code",
   "execution_count": 139,
   "metadata": {},
   "outputs": [
    {
     "data": {
      "text/plain": [
       "(3590, 63062)"
      ]
     },
     "execution_count": 139,
     "metadata": {},
     "output_type": "execute_result"
    }
   ],
   "source": [
    "X.shape"
   ]
  },
  {
   "cell_type": "code",
   "execution_count": 138,
   "metadata": {},
   "outputs": [
    {
     "data": {
      "text/plain": [
       "<3590x63062 sparse matrix of type '<class 'numpy.int64'>'\n",
       "\twith 280738 stored elements in Compressed Sparse Row format>"
      ]
     },
     "execution_count": 138,
     "metadata": {},
     "output_type": "execute_result"
    }
   ],
   "source": [
    "X"
   ]
  },
  {
   "cell_type": "code",
   "execution_count": 126,
   "metadata": {},
   "outputs": [
    {
     "data": {
      "text/plain": [
       "(3590,)"
      ]
     },
     "execution_count": 126,
     "metadata": {},
     "output_type": "execute_result"
    }
   ],
   "source": [
    "y.shape"
   ]
  },
  {
   "cell_type": "code",
   "execution_count": 133,
   "metadata": {},
   "outputs": [
    {
     "data": {
      "text/plain": [
       "pandas.core.series.Series"
      ]
     },
     "execution_count": 133,
     "metadata": {},
     "output_type": "execute_result"
    }
   ],
   "source": [
    "X"
   ]
  },
  {
   "cell_type": "code",
   "execution_count": 144,
   "metadata": {},
   "outputs": [],
   "source": [
    "y=y.reshape(-1,1)"
   ]
  },
  {
   "cell_type": "code",
   "execution_count": 154,
   "metadata": {},
   "outputs": [
    {
     "data": {
      "text/plain": [
       "(3590, 1)"
      ]
     },
     "execution_count": 154,
     "metadata": {},
     "output_type": "execute_result"
    }
   ],
   "source": [
    "y.shape"
   ]
  },
  {
   "cell_type": "code",
   "execution_count": 149,
   "metadata": {},
   "outputs": [
    {
     "data": {
      "text/plain": [
       "(3590, 63062)"
      ]
     },
     "execution_count": 149,
     "metadata": {},
     "output_type": "execute_result"
    }
   ],
   "source": [
    "X.shape"
   ]
  },
  {
   "cell_type": "code",
   "execution_count": 158,
   "metadata": {},
   "outputs": [],
   "source": [
    "import numpy as np\n",
    "from scipy.sparse import hstack\n",
    "\n",
    "# Assuming you have X as a sparse matrix and y as a NumPy array\n",
    "# with shapes (3590, 63062) and (3590,) respectively\n",
    "\n",
    "# First, convert y to a sparse matrix\n",
    "from scipy.sparse import csr_matrix\n",
    "y_sparse = csr_matrix(y.reshape(-1, 1))\n",
    "\n",
    "# Concatenate X and y_sparse along columns\n",
    "result = hstack([X, y_sparse], format='csr')\n",
    "\n",
    "# The resulting 'result' will have a shape of (3590, 63063) and will be a sparse matrix"
   ]
  },
  {
   "cell_type": "code",
   "execution_count": 159,
   "metadata": {},
   "outputs": [
    {
     "data": {
      "text/plain": [
       "<3590x63063 sparse matrix of type '<class 'numpy.int64'>'\n",
       "\twith 281288 stored elements in Compressed Sparse Row format>"
      ]
     },
     "execution_count": 159,
     "metadata": {},
     "output_type": "execute_result"
    }
   ],
   "source": [
    "result"
   ]
  },
  {
   "cell_type": "code",
   "execution_count": 160,
   "metadata": {},
   "outputs": [
    {
     "data": {
      "text/plain": [
       "(3590, 63062)"
      ]
     },
     "execution_count": 160,
     "metadata": {},
     "output_type": "execute_result"
    }
   ],
   "source": [
    "X.shape"
   ]
  },
  {
   "cell_type": "code",
   "execution_count": 161,
   "metadata": {},
   "outputs": [
    {
     "data": {
      "text/plain": [
       "(3590,)"
      ]
     },
     "execution_count": 161,
     "metadata": {},
     "output_type": "execute_result"
    }
   ],
   "source": [
    "y.shape"
   ]
  },
  {
   "cell_type": "code",
   "execution_count": 162,
   "metadata": {},
   "outputs": [],
   "source": [
    "from scipy.sparse import save_npz"
   ]
  },
  {
   "cell_type": "code",
   "execution_count": 164,
   "metadata": {},
   "outputs": [],
   "source": [
    "\n",
    "save_npz(\"class_X_y.npz\",matrix=result)"
   ]
  },
  {
   "cell_type": "code",
   "execution_count": 168,
   "metadata": {},
   "outputs": [],
   "source": [
    "from scipy.sparse import load_npz\n",
    "X_y=load_npz(\"class_X_y.npz\")"
   ]
  },
  {
   "cell_type": "code",
   "execution_count": 183,
   "metadata": {},
   "outputs": [],
   "source": [
    "X=X_y[:,:-1]"
   ]
  },
  {
   "cell_type": "code",
   "execution_count": 184,
   "metadata": {},
   "outputs": [
    {
     "data": {
      "text/plain": [
       "(3590, 63062)"
      ]
     },
     "execution_count": 184,
     "metadata": {},
     "output_type": "execute_result"
    }
   ],
   "source": [
    "X.shape"
   ]
  },
  {
   "cell_type": "code",
   "execution_count": 185,
   "metadata": {},
   "outputs": [],
   "source": [
    "y=X_y[:,-1]"
   ]
  },
  {
   "cell_type": "code",
   "execution_count": 186,
   "metadata": {},
   "outputs": [
    {
     "data": {
      "text/plain": [
       "(3590, 1)"
      ]
     },
     "execution_count": 186,
     "metadata": {},
     "output_type": "execute_result"
    }
   ],
   "source": [
    "y.shape"
   ]
  },
  {
   "cell_type": "code",
   "execution_count": null,
   "metadata": {},
   "outputs": [],
   "source": []
  }
 ],
 "metadata": {
  "kernelspec": {
   "display_name": "Python 3",
   "language": "python",
   "name": "python3"
  },
  "language_info": {
   "codemirror_mode": {
    "name": "ipython",
    "version": 3
   },
   "file_extension": ".py",
   "mimetype": "text/x-python",
   "name": "python",
   "nbconvert_exporter": "python",
   "pygments_lexer": "ipython3",
   "version": "3.8.18"
  }
 },
 "nbformat": 4,
 "nbformat_minor": 2
}
